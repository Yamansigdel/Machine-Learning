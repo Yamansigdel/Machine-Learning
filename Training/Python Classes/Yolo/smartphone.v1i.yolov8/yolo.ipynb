{
 "cells": [
  {
   "cell_type": "code",
   "execution_count": null,
   "metadata": {},
   "outputs": [],
   "source": [
    "from ultralytics import YOLO\n",
    "import torch\n",
    "\n",
    "# Initialize the model with the YOLOv8n weights\n",
    "model = YOLO('yolov8n.pt')\n",
    "\n",
    "# Train the model on your dataset\n",
    "results = model.train(data=r\"D:\\Training\\Python Classes\\Yolo\\smartphone.v1i.yolov8\\data.yaml\", epochs=1, imgsz=640)\n",
    "\n",
    "# Save the trained model manually\n",
    "torch.save({\n",
    "    'model_state_dict': model.model.state_dict(),\n",
    "}, 'yolo_v8_new.pt')\n",
    "\n",
    "checkpoint = torch.load('yolo_v8_new.pt')\n",
    "model.model.load_state_dict(checkpoint['model_state_dict'])\n",
    "\n",
    "# Verify the model by running some predictions\n",
    "results = model.predict(source=r'D:\\Training\\Python Classes\\Yolo\\smartphone.v1i.yolov8\\test\\images')\n",
    "\n",
    "# Display or process the results\n",
    "print(results)"
   ]
  },
  {
   "cell_type": "code",
   "execution_count": null,
   "metadata": {},
   "outputs": [],
   "source": [
    "model=YOLO('yolo_v8_new.pt')"
   ]
  },
  {
   "cell_type": "code",
   "execution_count": 11,
   "metadata": {},
   "outputs": [],
   "source": [
    "from ultralytics import YOLO\n",
    "\n",
    "model=YOLO(model='yolov8n.pt')"
   ]
  },
  {
   "cell_type": "code",
   "execution_count": null,
   "metadata": {},
   "outputs": [],
   "source": [
    "results=model.train(data=r\"D:\\Training\\Python Classes\\Yolo\\smartphone.v1i.yolov8\\data.yaml\", epochs=2, imgsz=640)\n",
    "model.save('yolo_v8_new.pt')"
   ]
  },
  {
   "cell_type": "code",
   "execution_count": null,
   "metadata": {},
   "outputs": [],
   "source": [
    "model=model.load('yolo_v8_new.pt')"
   ]
  },
  {
   "cell_type": "markdown",
   "metadata": {},
   "source": [
    "Inferencing on images\n"
   ]
  },
  {
   "cell_type": "code",
   "execution_count": 12,
   "metadata": {},
   "outputs": [
    {
     "name": "stdout",
     "output_type": "stream",
     "text": [
      "\n",
      "0: 640x640 1 elephant, 4 zebras, 1: 640x640 1 horse, 376.4ms\n",
      "Speed: 7.7ms preprocess, 188.2ms inference, 3.3ms postprocess per image at shape (1, 3, 640, 640)\n",
      "[ultralytics.engine.results.Results object with attributes:\n",
      "\n",
      "boxes: ultralytics.engine.results.Boxes object\n",
      "keypoints: None\n",
      "masks: None\n",
      "names: {0: 'person', 1: 'bicycle', 2: 'car', 3: 'motorcycle', 4: 'airplane', 5: 'bus', 6: 'train', 7: 'truck', 8: 'boat', 9: 'traffic light', 10: 'fire hydrant', 11: 'stop sign', 12: 'parking meter', 13: 'bench', 14: 'bird', 15: 'cat', 16: 'dog', 17: 'horse', 18: 'sheep', 19: 'cow', 20: 'elephant', 21: 'bear', 22: 'zebra', 23: 'giraffe', 24: 'backpack', 25: 'umbrella', 26: 'handbag', 27: 'tie', 28: 'suitcase', 29: 'frisbee', 30: 'skis', 31: 'snowboard', 32: 'sports ball', 33: 'kite', 34: 'baseball bat', 35: 'baseball glove', 36: 'skateboard', 37: 'surfboard', 38: 'tennis racket', 39: 'bottle', 40: 'wine glass', 41: 'cup', 42: 'fork', 43: 'knife', 44: 'spoon', 45: 'bowl', 46: 'banana', 47: 'apple', 48: 'sandwich', 49: 'orange', 50: 'broccoli', 51: 'carrot', 52: 'hot dog', 53: 'pizza', 54: 'donut', 55: 'cake', 56: 'chair', 57: 'couch', 58: 'potted plant', 59: 'bed', 60: 'dining table', 61: 'toilet', 62: 'tv', 63: 'laptop', 64: 'mouse', 65: 'remote', 66: 'keyboard', 67: 'cell phone', 68: 'microwave', 69: 'oven', 70: 'toaster', 71: 'sink', 72: 'refrigerator', 73: 'book', 74: 'clock', 75: 'vase', 76: 'scissors', 77: 'teddy bear', 78: 'hair drier', 79: 'toothbrush'}\n",
      "orig_img: array([[[174, 140,  80],\n",
      "        [174, 140,  80],\n",
      "        [175, 141,  81],\n",
      "        ...,\n",
      "        [150, 141, 132],\n",
      "        [151, 142, 133],\n",
      "        [151, 142, 133]],\n",
      "\n",
      "       [[173, 139,  80],\n",
      "        [174, 140,  81],\n",
      "        [174, 140,  81],\n",
      "        ...,\n",
      "        [151, 142, 133],\n",
      "        [152, 143, 134],\n",
      "        [152, 143, 134]],\n",
      "\n",
      "       [[171, 138,  82],\n",
      "        [171, 138,  82],\n",
      "        [171, 138,  82],\n",
      "        ...,\n",
      "        [152, 143, 134],\n",
      "        [153, 144, 135],\n",
      "        [153, 144, 135]],\n",
      "\n",
      "       ...,\n",
      "\n",
      "       [[ 93, 144, 176],\n",
      "        [  4,  51,  83],\n",
      "        [ 28,  69, 101],\n",
      "        ...,\n",
      "        [ 52,  71,  79],\n",
      "        [ 18,  37,  45],\n",
      "        [ 15,  34,  42]],\n",
      "\n",
      "       [[ 52, 103, 136],\n",
      "        [ 37,  84, 116],\n",
      "        [ 48,  89, 121],\n",
      "        ...,\n",
      "        [ 36,  55,  63],\n",
      "        [ 26,  47,  55],\n",
      "        [ 20,  41,  49]],\n",
      "\n",
      "       [[ 92, 143, 176],\n",
      "        [ 82, 129, 161],\n",
      "        [ 80, 121, 154],\n",
      "        ...,\n",
      "        [ 36,  55,  63],\n",
      "        [ 26,  47,  55],\n",
      "        [ 20,  41,  49]]], dtype=uint8)\n",
      "orig_shape: (554, 554)\n",
      "path: 'D:\\\\Training\\\\elephant.jpg'\n",
      "probs: None\n",
      "save_dir: None\n",
      "speed: {'preprocess': 7.691144943237305, 'inference': 188.20726871490479, 'postprocess': 3.250002861022949}, ultralytics.engine.results.Results object with attributes:\n",
      "\n",
      "boxes: ultralytics.engine.results.Boxes object\n",
      "keypoints: None\n",
      "masks: None\n",
      "names: {0: 'person', 1: 'bicycle', 2: 'car', 3: 'motorcycle', 4: 'airplane', 5: 'bus', 6: 'train', 7: 'truck', 8: 'boat', 9: 'traffic light', 10: 'fire hydrant', 11: 'stop sign', 12: 'parking meter', 13: 'bench', 14: 'bird', 15: 'cat', 16: 'dog', 17: 'horse', 18: 'sheep', 19: 'cow', 20: 'elephant', 21: 'bear', 22: 'zebra', 23: 'giraffe', 24: 'backpack', 25: 'umbrella', 26: 'handbag', 27: 'tie', 28: 'suitcase', 29: 'frisbee', 30: 'skis', 31: 'snowboard', 32: 'sports ball', 33: 'kite', 34: 'baseball bat', 35: 'baseball glove', 36: 'skateboard', 37: 'surfboard', 38: 'tennis racket', 39: 'bottle', 40: 'wine glass', 41: 'cup', 42: 'fork', 43: 'knife', 44: 'spoon', 45: 'bowl', 46: 'banana', 47: 'apple', 48: 'sandwich', 49: 'orange', 50: 'broccoli', 51: 'carrot', 52: 'hot dog', 53: 'pizza', 54: 'donut', 55: 'cake', 56: 'chair', 57: 'couch', 58: 'potted plant', 59: 'bed', 60: 'dining table', 61: 'toilet', 62: 'tv', 63: 'laptop', 64: 'mouse', 65: 'remote', 66: 'keyboard', 67: 'cell phone', 68: 'microwave', 69: 'oven', 70: 'toaster', 71: 'sink', 72: 'refrigerator', 73: 'book', 74: 'clock', 75: 'vase', 76: 'scissors', 77: 'teddy bear', 78: 'hair drier', 79: 'toothbrush'}\n",
      "orig_img: array([[[187, 182, 181],\n",
      "        [187, 182, 181],\n",
      "        [187, 182, 181],\n",
      "        ...,\n",
      "        [194, 192, 191],\n",
      "        [194, 192, 191],\n",
      "        [195, 193, 192]],\n",
      "\n",
      "       [[187, 182, 181],\n",
      "        [187, 182, 181],\n",
      "        [187, 182, 181],\n",
      "        ...,\n",
      "        [194, 192, 191],\n",
      "        [194, 192, 191],\n",
      "        [195, 193, 192]],\n",
      "\n",
      "       [[187, 182, 181],\n",
      "        [187, 182, 181],\n",
      "        [187, 182, 181],\n",
      "        ...,\n",
      "        [194, 192, 191],\n",
      "        [194, 192, 191],\n",
      "        [195, 193, 192]],\n",
      "\n",
      "       ...,\n",
      "\n",
      "       [[ 17,  59, 136],\n",
      "        [  3,  45, 122],\n",
      "        [  0,  39, 118],\n",
      "        ...,\n",
      "        [160, 157, 159],\n",
      "        [165, 162, 164],\n",
      "        [166, 163, 165]],\n",
      "\n",
      "       [[ 17,  59, 136],\n",
      "        [  8,  50, 127],\n",
      "        [  0,  40, 119],\n",
      "        ...,\n",
      "        [160, 157, 159],\n",
      "        [164, 161, 163],\n",
      "        [166, 163, 165]],\n",
      "\n",
      "       [[  4,  46, 123],\n",
      "        [  6,  48, 125],\n",
      "        [  4,  47, 126],\n",
      "        ...,\n",
      "        [160, 157, 159],\n",
      "        [164, 161, 163],\n",
      "        [165, 162, 164]]], dtype=uint8)\n",
      "orig_shape: (452, 678)\n",
      "path: 'D:\\\\Training\\\\horse.jpg'\n",
      "probs: None\n",
      "save_dir: None\n",
      "speed: {'preprocess': 7.691144943237305, 'inference': 188.20726871490479, 'postprocess': 3.250002861022949}]\n"
     ]
    },
    {
     "data": {
      "text/plain": [
       "<Figure size 640x480 with 1 Axes>"
      ]
     },
     "metadata": {},
     "output_type": "display_data"
    },
    {
     "data": {
      "text/plain": [
       "<Figure size 640x480 with 1 Axes>"
      ]
     },
     "metadata": {},
     "output_type": "display_data"
    }
   ],
   "source": [
    "from ultralytics import YOLO\n",
    "import matplotlib.pyplot as plt\n",
    "\n",
    "# Load the YOLO model\n",
    "model = YOLO(model='yolov8n.pt')\n",
    "\n",
    "# List of images to process\n",
    "image_paths = [\n",
    "    r\"D:\\Training\\elephant.jpg\",\n",
    "    r\"D:\\Training\\horse.jpg\"\n",
    "]\n",
    "\n",
    "# Get the results from the model\n",
    "results = model(image_paths)\n",
    "print(results)\n",
    "\n",
    "# Process the results list\n",
    "count = 0\n",
    "for result in results:\n",
    "    boxes = result.boxes  # Boxes object for bounding box outputs\n",
    "    masks = result.masks  # Masks object for segmentat ion masks outputs (if applicable)\n",
    "    keypoints = result.keypoints  # Keypoints object for pose outputs (if applicable)\n",
    "    probs = result.probs  # Probabilities object for classification outputs (if applicable)\n",
    "\n",
    "    # Plot the results\n",
    "    result_img = result.plot()  # This will return an image with bounding boxes and other annotations\n",
    "\n",
    "    # Save the result image with a unique filename using matplotlib\n",
    "    save_path = f\"result_{count}.jpg\"\n",
    "    plt.imsave(save_path, result_img)\n",
    "\n",
    "    # Display the image using Matplotlib\n",
    "    plt.imshow(result_img)\n",
    "    plt.axis('off')\n",
    "    plt.show()\n",
    "\n",
    "    count += 1\n"
   ]
  },
  {
   "cell_type": "code",
   "execution_count": 13,
   "metadata": {},
   "outputs": [
    {
     "name": "stdout",
     "output_type": "stream",
     "text": [
      "New https://pypi.org/project/ultralytics/8.2.22 available 😃 Update with 'pip install -U ultralytics'\n",
      "Ultralytics YOLOv8.0.229 🚀 Python-3.11.4 torch-2.1.2+cpu CPU (AMD Ryzen 5 5500U with Radeon Graphics)\n",
      "\u001b[34m\u001b[1mengine\\trainer: \u001b[0mtask=detect, mode=train, model=yolov8n.pt, data=D:\\Training\\Python Classes\\Yolo\\smartphone.v1i.yolov8\\data.yaml, epochs=1, time=None, patience=50, batch=16, imgsz=640, save=True, save_period=-1, cache=False, device=None, workers=8, project=None, name=train7, exist_ok=False, pretrained=True, optimizer=auto, verbose=True, seed=0, deterministic=True, single_cls=False, rect=False, cos_lr=False, close_mosaic=10, resume=False, amp=True, fraction=1.0, profile=False, freeze=None, overlap_mask=True, mask_ratio=4, dropout=0.0, val=True, split=val, save_json=False, save_hybrid=False, conf=None, iou=0.7, max_det=300, half=False, dnn=False, plots=True, source=None, vid_stride=1, stream_buffer=False, visualize=False, augment=False, agnostic_nms=False, classes=None, retina_masks=False, embed=None, show=False, save_frames=False, save_txt=False, save_conf=False, save_crop=False, show_labels=True, show_conf=True, show_boxes=True, line_width=None, format=torchscript, keras=False, optimize=False, int8=False, dynamic=False, simplify=False, opset=None, workspace=4, nms=False, lr0=0.01, lrf=0.01, momentum=0.937, weight_decay=0.0005, warmup_epochs=3.0, warmup_momentum=0.8, warmup_bias_lr=0.1, box=7.5, cls=0.5, dfl=1.5, pose=12.0, kobj=1.0, label_smoothing=0.0, nbs=64, hsv_h=0.015, hsv_s=0.7, hsv_v=0.4, degrees=0.0, translate=0.1, scale=0.5, shear=0.0, perspective=0.0, flipud=0.0, fliplr=0.5, mosaic=1.0, mixup=0.0, copy_paste=0.0, cfg=None, tracker=botsort.yaml, save_dir=c:\\Users\\Admin\\runs\\detect\\train7\n",
      "Overriding model.yaml nc=80 with nc=4\n",
      "\n",
      "                   from  n    params  module                                       arguments                     \n",
      "  0                  -1  1       464  ultralytics.nn.modules.conv.Conv             [3, 16, 3, 2]                 \n",
      "  1                  -1  1      4672  ultralytics.nn.modules.conv.Conv             [16, 32, 3, 2]                \n",
      "  2                  -1  1      7360  ultralytics.nn.modules.block.C2f             [32, 32, 1, True]             \n",
      "  3                  -1  1     18560  ultralytics.nn.modules.conv.Conv             [32, 64, 3, 2]                \n",
      "  4                  -1  2     49664  ultralytics.nn.modules.block.C2f             [64, 64, 2, True]             \n",
      "  5                  -1  1     73984  ultralytics.nn.modules.conv.Conv             [64, 128, 3, 2]               \n",
      "  6                  -1  2    197632  ultralytics.nn.modules.block.C2f             [128, 128, 2, True]           \n",
      "  7                  -1  1    295424  ultralytics.nn.modules.conv.Conv             [128, 256, 3, 2]              \n",
      "  8                  -1  1    460288  ultralytics.nn.modules.block.C2f             [256, 256, 1, True]           \n",
      "  9                  -1  1    164608  ultralytics.nn.modules.block.SPPF            [256, 256, 5]                 \n",
      " 10                  -1  1         0  torch.nn.modules.upsampling.Upsample         [None, 2, 'nearest']          \n",
      " 11             [-1, 6]  1         0  ultralytics.nn.modules.conv.Concat           [1]                           \n",
      " 12                  -1  1    148224  ultralytics.nn.modules.block.C2f             [384, 128, 1]                 \n",
      " 13                  -1  1         0  torch.nn.modules.upsampling.Upsample         [None, 2, 'nearest']          \n",
      " 14             [-1, 4]  1         0  ultralytics.nn.modules.conv.Concat           [1]                           \n",
      " 15                  -1  1     37248  ultralytics.nn.modules.block.C2f             [192, 64, 1]                  \n",
      " 16                  -1  1     36992  ultralytics.nn.modules.conv.Conv             [64, 64, 3, 2]                \n",
      " 17            [-1, 12]  1         0  ultralytics.nn.modules.conv.Concat           [1]                           \n",
      " 18                  -1  1    123648  ultralytics.nn.modules.block.C2f             [192, 128, 1]                 \n",
      " 19                  -1  1    147712  ultralytics.nn.modules.conv.Conv             [128, 128, 3, 2]              \n",
      " 20             [-1, 9]  1         0  ultralytics.nn.modules.conv.Concat           [1]                           \n",
      " 21                  -1  1    493056  ultralytics.nn.modules.block.C2f             [384, 256, 1]                 \n",
      " 22        [15, 18, 21]  1    752092  ultralytics.nn.modules.head.Detect           [4, [64, 128, 256]]           \n",
      "Model summary: 225 layers, 3011628 parameters, 3011612 gradients, 8.2 GFLOPs\n",
      "\n",
      "Transferred 319/355 items from pretrained weights\n",
      "\u001b[34m\u001b[1mTensorBoard: \u001b[0mStart with 'tensorboard --logdir c:\\Users\\Admin\\runs\\detect\\train7', view at http://localhost:6006/\n",
      "Freezing layer 'model.22.dfl.conv.weight'\n"
     ]
    },
    {
     "name": "stderr",
     "output_type": "stream",
     "text": [
      "\u001b[34m\u001b[1mtrain: \u001b[0mScanning D:\\Training\\Python Classes\\Yolo\\smartphone.v1i.yolov8\\train\\labels.cache... 797 images, 2 backgrounds, 0 corrupt: 100%|██████████| 797/797 [00:00<?, ?it/s]\n",
      "\u001b[34m\u001b[1mval: \u001b[0mScanning D:\\Training\\Python Classes\\Yolo\\smartphone.v1i.yolov8\\test\\labels.cache... 89 images, 0 backgrounds, 0 corrupt: 100%|██████████| 89/89 [00:00<?, ?it/s]\n"
     ]
    },
    {
     "name": "stdout",
     "output_type": "stream",
     "text": [
      "Plotting labels to c:\\Users\\Admin\\runs\\detect\\train7\\labels.jpg... \n",
      "\u001b[34m\u001b[1moptimizer:\u001b[0m 'optimizer=auto' found, ignoring 'lr0=0.01' and 'momentum=0.937' and determining best 'optimizer', 'lr0' and 'momentum' automatically... \n",
      "\u001b[34m\u001b[1moptimizer:\u001b[0m AdamW(lr=0.00125, momentum=0.9) with parameter groups 57 weight(decay=0.0), 64 weight(decay=0.0005), 63 bias(decay=0.0)\n",
      "1 epochs...\n",
      "\n",
      "      Epoch    GPU_mem   box_loss   cls_loss   dfl_loss  Instances       Size\n"
     ]
    },
    {
     "name": "stderr",
     "output_type": "stream",
     "text": [
      "        1/1         0G      1.214      2.235      1.426         70        640: 100%|██████████| 50/50 [07:26<00:00,  8.92s/it]\n",
      "                 Class     Images  Instances      Box(P          R      mAP50  mAP50-95): 100%|██████████| 3/3 [00:19<00:00,  6.54s/it]\n"
     ]
    },
    {
     "name": "stdout",
     "output_type": "stream",
     "text": [
      "                   all         89        214      0.958      0.232      0.336      0.226\n",
      "\n",
      "1 epochs completed in 0.133 hours.\n",
      "Optimizer stripped from c:\\Users\\Admin\\runs\\detect\\train7\\weights\\last.pt, 6.2MB\n",
      "Optimizer stripped from c:\\Users\\Admin\\runs\\detect\\train7\\weights\\best.pt, 6.2MB\n",
      "\n",
      "Validating c:\\Users\\Admin\\runs\\detect\\train7\\weights\\best.pt...\n",
      "Ultralytics YOLOv8.0.229 🚀 Python-3.11.4 torch-2.1.2+cpu CPU (AMD Ryzen 5 5500U with Radeon Graphics)\n",
      "Model summary (fused): 168 layers, 3006428 parameters, 0 gradients, 8.1 GFLOPs\n"
     ]
    },
    {
     "name": "stderr",
     "output_type": "stream",
     "text": [
      "                 Class     Images  Instances      Box(P          R      mAP50  mAP50-95): 100%|██████████| 3/3 [00:15<00:00,  5.30s/it]\n"
     ]
    },
    {
     "name": "stdout",
     "output_type": "stream",
     "text": [
      "                   all         89        214      0.958      0.232      0.336      0.226\n",
      "                     0         89          2          1          0    0.00367     0.0033\n",
      "                  Hand         89         33          1          0      0.203     0.0986\n",
      "            Smartphone         89        179      0.874      0.697        0.8      0.575\n",
      "Speed: 3.7ms preprocess, 151.6ms inference, 0.0ms loss, 6.5ms postprocess per image\n",
      "Results saved to \u001b[1mc:\\Users\\Admin\\runs\\detect\\train7\u001b[0m\n",
      "\n",
      "image 1/2 D:\\Training\\Python Classes\\Yolo\\smartphone.v1i.yolov8\\test_1\\images\\images252_jpg.rf.110b3a6a7ace3ea0a2e3843d3804794b.jpg: 384x640 (no detections), 181.2ms\n",
      "image 2/2 D:\\Training\\Python Classes\\Yolo\\smartphone.v1i.yolov8\\test_1\\images\\images345_jpg.rf.54da31f64707d93a057d7d2ea85ec0bd.jpg: 320x640 3 Smartphones, 137.3ms\n",
      "Speed: 10.7ms preprocess, 159.2ms inference, 4.8ms postprocess per image at shape (1, 3, 320, 640)\n"
     ]
    },
    {
     "data": {
      "text/plain": [
       "<Figure size 640x480 with 1 Axes>"
      ]
     },
     "metadata": {},
     "output_type": "display_data"
    },
    {
     "data": {
      "text/plain": [
       "<Figure size 640x480 with 1 Axes>"
      ]
     },
     "metadata": {},
     "output_type": "display_data"
    }
   ],
   "source": [
    "import torch\n",
    "from ultralytics import YOLO\n",
    "import matplotlib.pyplot as plt\n",
    "\n",
    "# Initialize the model with the YOLOv8n weights\n",
    "model = YOLO('yolov8n.pt')\n",
    "\n",
    "# Train the model on your dataset\n",
    "results = model.train(data=r\"D:\\Training\\Python Classes\\Yolo\\smartphone.v1i.yolov8\\data.yaml\", epochs=1, imgsz=640)\n",
    "\n",
    "# Save the trained model state dictionary manually\n",
    "torch.save({\n",
    "    'model_state_dict': model.model.state_dict(),\n",
    "}, 'yolo_v8_new.pt')\n",
    "\n",
    "# Load the trained model state dictionary\n",
    "checkpoint = torch.load('yolo_v8_new.pt')\n",
    "model.model.load_state_dict(checkpoint['model_state_dict'])\n",
    "\n",
    "# Verify the model by running some predictions\n",
    "results = model(r'D:\\Training\\Python Classes\\Yolo\\smartphone.v1i.yolov8\\test_1\\images')\n",
    "\n",
    "# Iterate over the results and save the images\n",
    "for count, result in enumerate(results):\n",
    "    boxes = result.boxes  # Boxes object for bounding box outputs\n",
    "    masks = result.masks  # Masks object for segmentation masks outputs (if applicable)\n",
    "    keypoints = result.keypoints  # Keypoints object for pose outputs (if applicable)\n",
    "    probs = result.probs  # Probabilities object for classification outputs (if applicable)\n",
    "\n",
    "    # Plot the results\n",
    "    result_img = result.plot()  # This will return an image with bounding boxes and other annotations\n",
    "\n",
    "    # Save the result image with a unique filename using matplotlib\n",
    "    save_path = f\"result_{count}.jpg\"\n",
    "    plt.imsave(save_path, result_img)\n",
    "\n",
    "    # Display the image using Matplotlib\n",
    "    plt.imshow(result_img)\n",
    "    plt.axis('off')\n",
    "    plt.show()\n"
   ]
  }
 ],
 "metadata": {
  "kernelspec": {
   "display_name": "Python 3",
   "language": "python",
   "name": "python3"
  },
  "language_info": {
   "codemirror_mode": {
    "name": "ipython",
    "version": 3
   },
   "file_extension": ".py",
   "mimetype": "text/x-python",
   "name": "python",
   "nbconvert_exporter": "python",
   "pygments_lexer": "ipython3",
   "version": "3.11.4"
  }
 },
 "nbformat": 4,
 "nbformat_minor": 2
}
