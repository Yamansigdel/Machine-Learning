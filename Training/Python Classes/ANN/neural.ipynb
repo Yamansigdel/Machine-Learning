{
 "cells": [
  {
   "cell_type": "markdown",
   "metadata": {},
   "source": [
    "<h3><center>Implementing Logic Operations using ANN</center></h3>"
   ]
  },
  {
   "cell_type": "code",
   "execution_count": 39,
   "metadata": {},
   "outputs": [
    {
     "name": "stdout",
     "output_type": "stream",
     "text": [
      "4.648267612512688 4.648229096966884 -7.070163933859967\n"
     ]
    }
   ],
   "source": [
    "w1=0.75\n",
    "w2=0.25\n",
    "b=0.35\n",
    "alpha=0.01\n",
    "h=0.001\n",
    "import numpy as np\n",
    "x1=[0,0,1,1]\n",
    "x2=[0,1,0,1]\n",
    "y=[0,0,0,1]\n",
    "n=len(x1)\n",
    "\n",
    "for i in range(100000):\n",
    "    for i in range(n):\n",
    "\n",
    "        #for w1\n",
    "        act_z_1=w1*x1[i]+ w2*x2[i] + b\n",
    "        h_z_1=(w1+h)*x1[i]+ w2*x2[i] + b\n",
    "        act_p_1=1/(1+np.exp(-act_z_1))\n",
    "        h_p_1=1/(1+np.exp(-h_z_1))\n",
    "        act_cost_1=((act_p_1-y[i])**2)/n\n",
    "        h_cost_1=((h_p_1-y[i])**2)/n\n",
    "\n",
    "        #for w2\n",
    "        act_z_2=w1*x1[i]+ w2*x2[i] + b\n",
    "        h_z_2=w1*x1[i]+ (w2+h)*x2[i] + b\n",
    "        act_p_2=1/(1+np.exp(-act_z_2))\n",
    "        h_p_2=1/(1+np.exp(-h_z_2))\n",
    "        act_cost_2=((act_p_2-y[i])**2)/n\n",
    "        h_cost_2=((h_p_2-y[i])**2)/n\n",
    "\n",
    "        #for b\n",
    "        act_z_b=w1*x1[i]+ w2*x2[i] + b\n",
    "        h_z_b=w1*x1[i]+ w2*x2[i] + (b+h)\n",
    "        act_p_b=1/(1+np.exp(-act_z_b))\n",
    "        h_p_b=1/(1+np.exp(-h_z_b))\n",
    "        act_cost_b=((act_p_b-y[i])**2)/n\n",
    "        h_cost_b=((h_p_b-y[i])**2)/n\n",
    "\n",
    "\n",
    "\n",
    "        d_w1=(h_cost_1-act_cost_1)/h\n",
    "        d_w2=(h_cost_2-act_cost_2)/h\n",
    "        d_b=(h_cost_b-act_cost_b)/h\n",
    "        \n",
    "        w1= w1 - (alpha* d_w1)\n",
    "        w2= w2 - (alpha* d_w2)\n",
    "        b= b -   (alpha * d_b)\n",
    "\n",
    "print(w1,w2,b)\n",
    "\n",
    "\n",
    "\n",
    "\n",
    "\n",
    "    "
   ]
  },
  {
   "cell_type": "code",
   "execution_count": 40,
   "metadata": {},
   "outputs": [
    {
     "name": "stdout",
     "output_type": "stream",
     "text": [
      "0.9025894058417453\n"
     ]
    }
   ],
   "source": [
    "z=w1*x1[3] + w2* x2[3] + b\n",
    "p=1/(1+np.exp(-z))\n",
    "print(p)\n",
    "\n"
   ]
  }
 ],
 "metadata": {
  "kernelspec": {
   "display_name": "Python 3",
   "language": "python",
   "name": "python3"
  },
  "language_info": {
   "codemirror_mode": {
    "name": "ipython",
    "version": 3
   },
   "file_extension": ".py",
   "mimetype": "text/x-python",
   "name": "python",
   "nbconvert_exporter": "python",
   "pygments_lexer": "ipython3",
   "version": "3.11.4"
  }
 },
 "nbformat": 4,
 "nbformat_minor": 2
}
